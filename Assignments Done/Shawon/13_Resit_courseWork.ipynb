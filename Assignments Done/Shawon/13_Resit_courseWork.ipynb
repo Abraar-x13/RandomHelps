{
 "cells": [
  {
   "cell_type": "markdown",
   "id": "1cdf7960",
   "metadata": {},
   "source": [
    "## Python Resit Course Work\n",
    "\n",
    "<div class=\"alert alert-block alert-info\">Read and examine the text below and then answer the 8 questions that follow <b>and submit your work to the Canvas 2nd assesment portal provided, towards your portfolio.</b></div>\n",
    "\n",
    "#### Please enter your name in the cell below:"
   ]
  },
  {
   "cell_type": "code",
   "execution_count": null,
   "id": "5d92d72b",
   "metadata": {},
   "outputs": [],
   "source": []
  },
  {
   "cell_type": "markdown",
   "id": "f91eea08",
   "metadata": {},
   "source": [
    "<div class=\"alert alert-block alert-danger\">\n",
    "Try to write the Python code to answer the following questions in the cells below. <i>You may use Python built-in or library functions that might help but <b>not</b> third-party libraries such as Numpy.</i> </div>\n",
    "\n",
    "### Functions and Recursion\n",
    "\n",
    "A function is a mathematical operator that takes at least one argument and returns a value.  You will have used functions already such as when find the sine of a number e.g.<br> \n",
    "- x = sin(45) <br>\n",
    "\n",
    "from this example 45 is the argument, sin is the function which will calculate the answer (0.707) which it will be returned from the function and then assigned to x.  In programming a function similarly parcels up a calculation (although it could be very much larger and/or complex and/or not only dealing with numbers), defining (ie. writing) functions is an essential skill in programming.  There is a specific way to write a Python function, (if you do not know how then you need to look it up) you need to demonstrate that you understand how to write code to the required standard in answering the following questions:\n",
    "\n",
    "#### <font color=\"red\"><b>1.</b></font> Write a Python function for calculating 3$ ^n $ (3 raised to the nth power), where is a non negative integer.  Name your function <i>threeN</i>, so when I call the function with n being 2 and then 3, it returns the correct answers."
   ]
  },
  {
   "cell_type": "code",
   "execution_count": null,
   "id": "edcb2d47",
   "metadata": {},
   "outputs": [],
   "source": [
    "def threeN(num : int) -> int:\n",
    "    \"\"\"\n",
    "        This function returns the cube of the number passed.\n",
    "\n",
    "    Args:\n",
    "        num (int): num to cube.\n",
    "\n",
    "    Returns:\n",
    "        int: cube of the number passed.\n",
    "    \"\"\"    \n",
    "    return num ** 3\n",
    "\n",
    "\n",
    "print(threeN(2))\n",
    "print(threeN(3))\n"
   ]
  },
  {
   "cell_type": "markdown",
   "id": "8e7824c2",
   "metadata": {},
   "source": [
    "#### <font color=\"red\"><b>2.</b></font> Write a Python function for calculating $ s(n) = 1 + 2 ... + n $ without using the formula $ s(n) = \\frac{n(n + 1)}{2} $,  call your function <i>loopCount</i> so when I call it with appropriate values for n it returns the correct answers."
   ]
  },
  {
   "cell_type": "code",
   "execution_count": null,
   "id": "b273e9b9",
   "metadata": {},
   "outputs": [],
   "source": [
    "\n",
    "def loopCount(num : int) -> int:\n",
    "    \"\"\"\n",
    "        This function returns the sum upto n without using the formula S(n) = n * (n + 1) / 2.\n",
    "\n",
    "    Args:\n",
    "        num (int): n of S(n).\n",
    "\n",
    "    Returns:\n",
    "        int: Sum upto n.\n",
    "    \"\"\"    \n",
    "    if num == 0 : return num\n",
    "    else : return num + loopCount(num - 1)\n",
    "\n",
    "print(loopCount(10))\n",
    "print(loopCount(100))"
   ]
  },
  {
   "cell_type": "markdown",
   "id": "d6350185",
   "metadata": {},
   "source": [
    "#### <font color=\"red\"><b>3.</b></font> Which of the following bit packets have even parity?  And which ones have odd parity? Identify the parity for each of the values below (If you do not know what a parity is, look it up).\n",
    "                    (a) 01001010, (b) 11011011, (c) 00110101, (d) 00101010."
   ]
  },
  {
   "cell_type": "code",
   "execution_count": null,
   "id": "ecbac053",
   "metadata": {},
   "outputs": [],
   "source": [
    "\"\"\"\n",
    "\n",
    "    We have to check the parity of 4 numbers:\n",
    "    { 'a' : \"01001010\", 'b' : \"11011011\", 'c' : \"00110101\", 'd' : \"00101010\"}\n",
    "    for a, there are 3 ones in the binary form. Thus, it has odd parity.\n",
    "    for b, there are 6 ones in the binary form. Thus, it has even parity.\n",
    "    for c, there are 4 ones in the binary form. Thus, it has even parity.\n",
    "    for d, there are 3 ones in the binary form. Thus, it has odd parity.\n",
    "    \n",
    "\"\"\""
   ]
  },
  {
   "cell_type": "markdown",
   "id": "72a58fcc",
   "metadata": {},
   "source": [
    "#### <font color=\"red\"><b>4.</b></font> Write and test a Python function that takes a string of binary digits (of any length) and returns the word ‘even’ if parity is even and ‘odd’ if it odd. For example, <i>myParityCount(‘01110’)</i> would return ‘odd’."
   ]
  },
  {
   "cell_type": "code",
   "execution_count": null,
   "id": "7a2dc793",
   "metadata": {},
   "outputs": [],
   "source": [
    "def myParityCount(n : int) -> str:\n",
    "    \"\"\"\n",
    "        This function returns the parity of a binary string passed to it.\n",
    "\n",
    "    Args:\n",
    "        n (int): binary string\n",
    "\n",
    "    Returns:\n",
    "        str: odd or even.\n",
    "    \"\"\"    \n",
    "    parity = 0\n",
    "    while n:\n",
    "        parity = ~parity\n",
    "        n = n & (n - 1)\n",
    "    return \"Odd\" if parity == -1 else \"Even\"\n",
    "\n",
    "\n",
    "nums = [\"01001010\", \"11011011\", \"00110101\", \"00101010\"]\n",
    "for num in nums :\n",
    "    n = int(num, 2)\n",
    "    print(f\"Parity of {num} is : {myParityCount(n)}\")\n"
   ]
  },
  {
   "cell_type": "markdown",
   "id": "9a92c9ca",
   "metadata": {},
   "source": [
    "#### <font color=\"red\"><b>5.</b></font> A recursive function operating on positive integers is described by:<br><br> $ f(n) = \\begin{equation} \\left\\{ \\begin{array} \\text{1,} \\mathrm{if n=1} \\\\ \\text{n.} f(n-1), \\mathrm{if n>1} \\end{array} \\right. \\end{equation} $\n",
    "\n",
    "<b>Implement the definition given above as a recursive Python function.</b>\n"
   ]
  },
  {
   "cell_type": "code",
   "execution_count": null,
   "id": "1f2390fc",
   "metadata": {},
   "outputs": [],
   "source": [
    "\n",
    "def func5(n : int) -> int :\n",
    "    \"\"\"\n",
    "    Computes factorial of a number >= 1.\n",
    "\n",
    "    Args:\n",
    "        n (int): num\n",
    "\n",
    "    Returns:\n",
    "        int: factorial of that number.\n",
    "    \"\"\"    \n",
    "    if n == 1 : return 1\n",
    "    else : return n * func5(n - 1)\n",
    "    \n",
    "\n",
    "for i in range(1, 10):\n",
    "    \n",
    "    print(func5(i))\n",
    "\n"
   ]
  },
  {
   "cell_type": "markdown",
   "id": "21cf343c",
   "metadata": {},
   "source": [
    "#### <font color=\"red\"><b>6.</b></font> Write and test a function\n",
    "\n",
    "def printDigits(n):\n",
    "\n",
    "<b>that displays a triangle with n rows, made of digits.  For example, printDigits(5) should display</b>\n",
    "\n",
    "           55555\n",
    "           4444\n",
    "           333\n",
    "           22\n",
    "           1\n",
    "\n",
    "<b>The function’s code under the def line should be three lines. <i>Hint: print(n*str(n)) prints ‘n’ n times.</i></b>\n"
   ]
  },
  {
   "cell_type": "code",
   "execution_count": null,
   "id": "47d89488",
   "metadata": {},
   "outputs": [],
   "source": [
    "\n",
    "def printDigits(n : int) -> None:\n",
    "    \"\"\"\n",
    "    Function that displays a triangle with n rows, made of digits.\n",
    "\n",
    "    Args:\n",
    "        n (int): number of rows to display.\n",
    "    \"\"\"    \n",
    "    if n == 0 : return\n",
    "    print(n * str(n))\n",
    "    printDigits(n-1)\n",
    "\n",
    "\n",
    "printDigits(5)\n",
    "printDigits(7)"
   ]
  },
  {
   "cell_type": "markdown",
   "id": "053a74da",
   "metadata": {},
   "source": [
    "#### <font color=\"red\"><b>7.</b></font> Write a recursive definition of a function in Python $ f(n) $ (for readability name your function func6) that has the following properties: $ f(1) =10, f(2) =30, $ and the values $ f(1), f(2), …, f(n), … $ form an arithmetic sequence. Hint: $ f(3) = 50 $ "
   ]
  },
  {
   "cell_type": "code",
   "execution_count": null,
   "id": "37eb82e4",
   "metadata": {},
   "outputs": [],
   "source": [
    "\n",
    "def func6(n : int) -> int :\n",
    "    \"\"\"A recursive function that returns the nth element of a arithmetic sequence.\n",
    " \n",
    "    Args:\n",
    "        n (int): nth element of a sequence\n",
    "\n",
    "    Returns:\n",
    "        int: value of the nth element.\n",
    "    \"\"\"    \n",
    "    if n == 1 : return 10\n",
    "    else : return 20 + func6(n -1)\n",
    "    \n",
    "\n",
    "print(func6(1))\n",
    "print(func6(2))\n",
    "print(func6(3))\n",
    "print(func6(10))\n"
   ]
  },
  {
   "cell_type": "markdown",
   "id": "bab23eaf",
   "metadata": {},
   "source": [
    "#### <font color=\"red\"><b>8.</b></font> Rewrite your solution for the question above (for readability name your function func7) but this time to produce a geometric sequence. Hint: $ f(3) = 90 $ "
   ]
  },
  {
   "cell_type": "code",
   "execution_count": null,
   "id": "1701cc16",
   "metadata": {},
   "outputs": [],
   "source": [
    "\n",
    "def func7(n : int) -> int :\n",
    "    \"\"\"A recursive function that returns the nth element of a geometric sequence.\n",
    "\n",
    "    Args:\n",
    "        n (int): nth element of a sequence\n",
    "\n",
    "    Returns:\n",
    "        int: value of the nth element.\n",
    "    \"\"\"    \n",
    "    if n == 1 : return 10\n",
    "    else : return 3 * func7(n -1)\n",
    "    \n",
    "\n",
    "print(func7(1))\n",
    "print(func7(2))\n",
    "print(func7(3))\n",
    "print(func7(10))\n"
   ]
  },
  {
   "cell_type": "markdown",
   "id": "e25c0dbd",
   "metadata": {},
   "source": [
    "### Downloading your workbook\n",
    "\n",
    "Please note even if you are running Jupyter on your computer (ie. not on a network) the Jupyter notebook runs as a server, so you are editing and running a file that is not easily accessed on your filing system. So to obtain your workbook (to use on a different computer or upload as an assignment, etc.) it must be downloaded to your file system. To do this...\n",
    "\n",
    "<div class=\"alert alert-block alert-info\">Goto the <b>\"File\"</b> menu and select the <b>\"Download as\"</b> item. You can then select <b>\"notebook (ipynb)\"</b> to download.</div>"
   ]
  }
 ],
 "metadata": {
  "kernelspec": {
   "display_name": "Python 3.10.5 64-bit",
   "language": "python",
   "name": "python3"
  },
  "language_info": {
   "codemirror_mode": {
    "name": "ipython",
    "version": 3
   },
   "file_extension": ".py",
   "mimetype": "text/x-python",
   "name": "python",
   "nbconvert_exporter": "python",
   "pygments_lexer": "ipython3",
   "version": "3.10.5"
  },
  "vscode": {
   "interpreter": {
    "hash": "7fbaf7bf3392dabd1fb1373d074f113fde9d34d4caefdcd9a886daf6067b726c"
   }
  }
 },
 "nbformat": 4,
 "nbformat_minor": 5
}
